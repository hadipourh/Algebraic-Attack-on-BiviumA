{
 "cells": [
  {
   "cell_type": "markdown",
   "metadata": {},
   "source": [
    "# In the name of ALLAH"
   ]
  },
  {
   "cell_type": "markdown",
   "metadata": {},
   "source": [
    "# Algebraic Attack on BiviumA\n",
    "H. Hadipour Jan 23 2017, 3 Bahman 1396"
   ]
  },
  {
   "cell_type": "code",
   "execution_count": 7,
   "metadata": {},
   "outputs": [],
   "source": [
    "from sage.crypto.util import *\n",
    "from sage.crypto.boolean_function import BooleanFunction\n",
    "from sage.sat.boolean_polynomials import solve as solve_sat\n",
    "from sage.rings.polynomial.multi_polynomial_sequence import PolynomialSequence"
   ]
  },
  {
   "cell_type": "markdown",
   "metadata": {},
   "source": [
    "# BiviumA Algorithm "
   ]
  },
  {
   "cell_type": "code",
   "execution_count": 8,
   "metadata": {},
   "outputs": [],
   "source": [
    "feedback1 = lambda a24, b15, b0, b1, b2: a24 + b15 + b0 + b1*b2\n",
    "feedback2 = lambda b6, a27, a0, a1, a2: b6 + a27 + a0 + a1*a2\n",
    "f = lambda b0, b15: b0 + b15\n",
    "def BiviumA(N):\n",
    "    P = GF(2)\n",
    "    n1 = 93; n2 = 84         \n",
    "    # Initialization\n",
    "    A = [0] * (N + n1)\n",
    "    B = [0] * (N + n2)\n",
    "    Z = [0] * (N)\n",
    "    # Random key generation\n",
    "    A[13:n1] = [P.random_element() for r in xrange(80)]\n",
    "    # Random IV generation\n",
    "    B[4:n2] = [P.random_element() for r in xrange(80)]\n",
    "    # Keystream calculation\n",
    "    for i in xrange(N):    \n",
    "        Z[i] = P(f(B[i], B[i + 15]))    \n",
    "        A[i + n1] = P(feedback1(A[i + 24], B[i + 15], B[i], B[i + 1], B[i + 2]))\n",
    "        B[i + n2] = P(feedback2(B[i + 6], A[i + 27], A[i], A[i + 1], A[i + 2]))\n",
    "    keystream = Z\n",
    "    Key = A[92:12:-1]\n",
    "    IV = B[84:3:-1]\n",
    "    return Key, IV, keystream"
   ]
  },
  {
   "cell_type": "code",
   "execution_count": 9,
   "metadata": {},
   "outputs": [],
   "source": [
    "K, IV, KSS = BiviumA(313)"
   ]
  },
  {
   "cell_type": "code",
   "execution_count": 15,
   "metadata": {},
   "outputs": [
    {
     "name": "stdout",
     "output_type": "stream",
     "text": [
      "312c734249d2fd53acfbd75062afb5d1050b7ce33ccb056435b3636532d5539cacbc0554292437\n"
     ]
    }
   ],
   "source": [
    "print('%x'%int(''.join([str(e) for e in KSS]),2))"
   ]
  },
  {
   "cell_type": "code",
   "execution_count": 16,
   "metadata": {},
   "outputs": [],
   "source": [
    "str_feedback1 = lambda a24, b15, b0, b1, b2: a24 + ' + ' +  b15 + ' + ' + b0 + ' + ' + b1 + '*' + b2\n",
    "str_feedback2 = lambda b6, a27, a0, a1, a2: b6 + ' + ' + a27 + ' + ' + a0 + ' + ' + a1 + '*' + a2\n",
    "str_f = lambda b0, b15: b0 + ' + ' + b15"
   ]
  },
  {
   "cell_type": "markdown",
   "metadata": {},
   "source": [
    "# Extraction algebraic equations of BiviumA"
   ]
  },
  {
   "cell_type": "code",
   "execution_count": 17,
   "metadata": {},
   "outputs": [],
   "source": [
    "def BiviumA_Equations(N, known_kss_msk):\n",
    "    assert(len(known_kss_msk) <= N)\n",
    "    nbitn = ceil(float(log(N, 2)))   \n",
    "    K, IV, KS = BiviumA(N)\n",
    "    n1 = 93; n2 = 84\n",
    "    A = ['a' + str(i) for i in range(n1 + N)]\n",
    "    B = ['b' + str(i) for i in range(n2 + N)]\n",
    "    Z = ['z' + bin(i)[2:].zfill(nbitn) for i in range(N)]\n",
    "    total_vars = A + B + Z        \n",
    "    #Extraction equations in string format:\n",
    "    Eqs = []\n",
    "    for i in xrange(N):\n",
    "        Eqs += [A[i + n1] + ' + ' + str_feedback1(A[i + 24], B[i + 15], B[i], B[i + 1], B[i + 2])]\n",
    "        Eqs += [B[i + n2] + ' + ' + str_feedback2(B[i + 6], A[i + 27], A[i], A[i + 1], A[i + 2])]\n",
    "        Eqs += [str_f(B[i], B[i + 15]) + ' + ' + Z[i]]\n",
    "    #Substituaiton known values:\n",
    "    known_variables = [Z[i] for i in known_kss_msk]\n",
    "    known_values = [KS[i] for i in known_kss_msk]\n",
    "    subs_dct = zip(known_variables, known_values)    \n",
    "    for k in subs_dct:\n",
    "        total_vars.remove(k[0])\n",
    "        for i in range(len(Eqs)):\n",
    "            Eqs[i] = Eqs[i].replace(k[0], str(k[1]))      \n",
    "    #Conversion string equations to ring objects\n",
    "    Ring = BooleanPolynomialRing(len(total_vars), total_vars)\n",
    "    var_str = list(Ring.variable_names())\n",
    "    n_vars = len(var_str)\n",
    "    var_ring = [Ring.variable(i) for i in range(n_vars)]\n",
    "    dct = dict(zip(var_str, var_ring))\n",
    "    ring_evaluator = lambda eq: sage_eval(eq, locals = dct)    \n",
    "    print(Eqs[0])\n",
    "    Eqs = map(ring_evaluator, Eqs) \n",
    "    Eqs = PolynomialSequence(Eqs) \n",
    "    ########\n",
    "    return K, IV, KS, Eqs"
   ]
  },
  {
   "cell_type": "code",
   "execution_count": 18,
   "metadata": {
    "scrolled": false
   },
   "outputs": [
    {
     "name": "stdout",
     "output_type": "stream",
     "text": [
      "a93 + a24 + b15 + b0 + b1*b2\n",
      "CPU times: user 627 ms, sys: 21 ms, total: 647 ms\n",
      "Wall time: 618 ms\n",
      "Polynomial Sequence with 531 Polynomials in 531 Variables\n"
     ]
    }
   ],
   "source": [
    "N = 177\n",
    "known_vals = range(0, N, 1)\n",
    "%time K, IV, KS, Eqs = BiviumA_Equations(N, known_vals)\n",
    "print(Eqs)"
   ]
  },
  {
   "cell_type": "markdown",
   "metadata": {},
   "source": [
    "# Solving by SAT"
   ]
  },
  {
   "cell_type": "code",
   "execution_count": 19,
   "metadata": {},
   "outputs": [
    {
     "name": "stdout",
     "output_type": "stream",
     "text": [
      "CPU times: user 41 s, sys: 2.53 s, total: 43.5 s\n",
      "Wall time: 46.3 s\n",
      "number of soluiton: 2\n",
      "The solution matches with the original key!\n"
     ]
    }
   ],
   "source": [
    "number_of_sols = 100\n",
    "%time sols = solve_sat(Eqs, n = number_of_sols, s_verbosity = 8)\n",
    "print('number of soluiton: %s' % len(sols))\n",
    "for i in range(len(sols)):\n",
    "    dl = sols[i]\n",
    "    temp = [value for (key, value) in sorted(dl.items(), reverse=True)]\n",
    "    if temp[92:12:-1] == K:\n",
    "        print('The solution matches with the original key!')\n",
    "        break"
   ]
  },
  {
   "cell_type": "code",
   "execution_count": null,
   "metadata": {},
   "outputs": [],
   "source": []
  }
 ],
 "metadata": {
  "kernelspec": {
   "display_name": "SageMath 8.2",
   "language": "",
   "name": "sagemath"
  },
  "language_info": {
   "codemirror_mode": {
    "name": "ipython",
    "version": 2
   },
   "file_extension": ".py",
   "mimetype": "text/x-python",
   "name": "python",
   "nbconvert_exporter": "python",
   "pygments_lexer": "ipython2",
   "version": "2.7.14"
  }
 },
 "nbformat": 4,
 "nbformat_minor": 1
}
